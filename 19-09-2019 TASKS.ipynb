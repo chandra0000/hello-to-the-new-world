{
 "cells": [
  {
   "cell_type": "markdown",
   "metadata": {},
   "source": [
    "### 19-09-2019 tasks"
   ]
  },
  {
   "cell_type": "markdown",
   "metadata": {},
   "source": [
    " #### Question -1:"
   ]
  },
  {
   "cell_type": "markdown",
   "metadata": {},
   "source": [
    "-write a program to print the next character of given string except z(z is same as z)\n"
   ]
  },
  {
   "cell_type": "markdown",
   "metadata": {},
   "source": [
    "-input Format:\n",
    "hello\n",
    " -Output Format:\n",
    "ifmmp"
   ]
  },
  {
   "cell_type": "code",
   "execution_count": null,
   "metadata": {},
   "outputs": [],
   "source": [
    "\n",
    "\n",
    "\n",
    "\n",
    "encryotedfile = 'DataFiles/encryptedMraks.txt'\n",
    "import timeit\n",
    "st = timeiedefault_timer()\n",
    "import timeit\n",
    "st = timeit.defualt_timer()\n",
    "decryptedMarksData(encryptedfile,keyfile)\n",
    "print(timeit.default_timer())"
   ]
  }
 ],
 "metadata": {
  "kernelspec": {
   "display_name": "Python 3",
   "language": "python",
   "name": "python3"
  },
  "language_info": {
   "codemirror_mode": {
    "name": "ipython",
    "version": 3
   },
   "file_extension": ".py",
   "mimetype": "text/x-python",
   "name": "python",
   "nbconvert_exporter": "python",
   "pygments_lexer": "ipython3",
   "version": "3.7.3"
  }
 },
 "nbformat": 4,
 "nbformat_minor": 2
}
